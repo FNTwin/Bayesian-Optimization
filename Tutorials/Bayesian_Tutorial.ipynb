{
 "cells": [
  {
   "cell_type": "code",
   "execution_count": 1,
   "metadata": {},
   "outputs": [],
   "source": [
    "from GPGO import BayesianOptimization,GP,RBF\n",
    "import numpy as np"
   ]
  },
  {
   "cell_type": "markdown",
   "metadata": {},
   "source": [
    "# Function to Optimize: HARTMANN 6 Dimensional Function\n",
    "<img src=\"http://i.imgur.com/kQ8KydD.png\">\n",
    "To optimize on the hypercube $x_i$  ∈ (0, 1), for all i = 1, …, 6 \n",
    "\n",
    "## Global Minimum\n",
    "<img src=\"http://i.imgur.com/EE8WAho.png\">"
   ]
  },
  {
   "cell_type": "code",
   "execution_count": 2,
   "metadata": {},
   "outputs": [],
   "source": [
    "\n",
    "def hartmann_6D(x):\n",
    "    alpha = np.array([[1.], [1.2], [3.], [3.2]])\n",
    "\n",
    "    A = np.array([[10, 3, 17, 3.50, 1.7, 8],\n",
    "                  [0.05, 10, 17, 0.1, 8, 14],\n",
    "                  [3, 3.5, 1.7, 10, 17, 8],\n",
    "                  [17, 8, 0.05, 10, 0.1, 14]])\n",
    "\n",
    "    P = 10 ** -4 * np.array([[1312, 1696, 5569, 124, 8283, 5886],\n",
    "                             [2329, 4135, 8307, 3736, 1004, 9991],\n",
    "                             [2348, 1451, 3522, 2883, 3047, 6650],\n",
    "                             [4047, 8828, 8732, 5743, 1091, 381]])\n",
    "\n",
    "    def comp(i):\n",
    "        tot = 0\n",
    "        for j in range(6):\n",
    "            tot += A[i][j] * (x.T[j] - P[i][j]) ** 2\n",
    "        return np.exp(-tot)\n",
    "\n",
    "    f = 0\n",
    "    for i in range(4):\n",
    "        f += -(alpha[i] * comp(i))\n",
    "\n",
    "    return f[:, None]\n",
    "\n"
   ]
  },
  {
   "cell_type": "code",
   "execution_count": 8,
   "metadata": {},
   "outputs": [],
   "source": [
    "dim = 6\n",
    "points = 3\n",
    "x = np.random.uniform(0, 1, (points, dim))\n",
    "y = hartmann_6D(x)\n",
    "gp = GP(x, y, RBF(gradient=False))\n",
    "gp.fit()\n",
    "settings = {\"type\": \"BFGS\",\n",
    "            \"ac_type\":\"EI\",\n",
    "            \"n_search\": 10,\n",
    "            \"boundaries\": [[0, 1] for i in range(6)],\n",
    "            \"epsilon\": 0.01,\n",
    "            \"iteration\": 50,\n",
    "            \"minimization\": True,\n",
    "            \"optimization\": True,\n",
    "            \"n_restart\": 10,\n",
    "            \"sampling\": np.random.uniform}\n",
    "\n",
    "BayOpt = BayesianOptimization(x, y, settings, gp, hartmann_6D)\n"
   ]
  },
  {
   "cell_type": "code",
   "execution_count": 9,
   "metadata": {},
   "outputs": [
    {
     "name": "stderr",
     "output_type": "stream",
     "text": [
      "/home/merk/PycharmProjects/GPoptPy/GPGO/GaussianProcess/GP.py:161: RuntimeWarning: invalid value encountered in log\n",
      "  - .5 * K.shape[0] * np.log(2 * np.pi)\n"
     ]
    },
    {
     "data": {
      "image/png": "[encoded data removed]",
      "text/plain": [
       "<Figure size 432x288 with 2 Axes>"
      ]
     },
     "metadata": {
      "needs_background": "light"
     },
     "output_type": "display_data"
    }
   ],
   "source": [
    "result = BayOpt.run()"
   ]
  },
  {
   "cell_type": "code",
   "execution_count": 10,
   "metadata": {},
   "outputs": [
    {
     "name": "stdout",
     "output_type": "stream",
     "text": [
      "(array([0.26347953, 0.16832597, 0.4747593 , 0.25800948, 0.34429534,\n",
      "       0.64264603]), array([-3.20360854]))\n"
     ]
    }
   ],
   "source": [
    "print(result)"
   ]
  },
  {
   "cell_type": "code",
   "execution_count": null,
   "metadata": {},
   "outputs": [],
   "source": []
  }
 ],
 "metadata": {
  "kernelspec": {
   "display_name": "Python 3",
   "language": "python",
   "name": "python3"
  },
  "language_info": {
   "codemirror_mode": {
    "name": "ipython",
    "version": 3
   },
   "file_extension": ".py",
   "mimetype": "text/x-python",
   "name": "python",
   "nbconvert_exporter": "python",
   "pygments_lexer": "ipython3",
   "version": "3.7.6"
  }
 },
 "nbformat": 4,
 "nbformat_minor": 4
}
